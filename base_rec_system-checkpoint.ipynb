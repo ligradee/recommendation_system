{
 "cells": [
  {
   "cell_type": "code",
   "execution_count": 26,
   "id": "3faf05bf",
   "metadata": {},
   "outputs": [],
   "source": [
    "import numpy as np\n",
    "import pandas as pd\n",
    "from sklearn import preprocessing #метки \n",
    "from sklearn.model_selection import train_test_split #разделение выборки\n",
    "from PIL import Image, ImageDraw #работа с изображениями\n",
    "import matplotlib.pyplot as plt #работа с изображениями\n",
    "from skimage.feature import hog #hog\n",
    "from skimage import exposure,  filters #exposure\n",
    "import cv2 #sobel\n",
    "import os #рабочая дикректория\n",
    "from sklearn.preprocessing import StandardScaler #визуализация выборки\n",
    "from sklearn.cluster import KMeans #визуализация выборки\n",
    "from sklearn.decomposition import PCA #Principle Component Analysis\n",
    "from sklearn.metrics.pairwise import cosine_similarity #косинусное сходство\n"
   ]
  },
  {
   "cell_type": "code",
   "execution_count": 27,
   "id": "351b1b52",
   "metadata": {},
   "outputs": [
    {
     "name": "stderr",
     "output_type": "stream",
     "text": [
      "C:\\Users\\ligra\\AppData\\Local\\Programs\\Python\\Python39\\lib\\site-packages\\IPython\\core\\interactiveshell.py:3441: FutureWarning: The error_bad_lines argument has been deprecated and will be removed in a future version.\n",
      "\n",
      "\n",
      "  exec(code_obj, self.user_global_ns, self.user_ns)\n",
      "b'Skipping line 6044: expected 10 fields, saw 11\\nSkipping line 6569: expected 10 fields, saw 11\\nSkipping line 7399: expected 10 fields, saw 11\\nSkipping line 7939: expected 10 fields, saw 11\\nSkipping line 9026: expected 10 fields, saw 11\\nSkipping line 10264: expected 10 fields, saw 11\\nSkipping line 10427: expected 10 fields, saw 11\\nSkipping line 10905: expected 10 fields, saw 11\\nSkipping line 11373: expected 10 fields, saw 11\\nSkipping line 11945: expected 10 fields, saw 11\\nSkipping line 14112: expected 10 fields, saw 11\\nSkipping line 14532: expected 10 fields, saw 11\\nSkipping line 15076: expected 10 fields, saw 12\\nSkipping line 29906: expected 10 fields, saw 11\\nSkipping line 31625: expected 10 fields, saw 11\\nSkipping line 33020: expected 10 fields, saw 11\\nSkipping line 35748: expected 10 fields, saw 11\\nSkipping line 35962: expected 10 fields, saw 11\\nSkipping line 37770: expected 10 fields, saw 11\\nSkipping line 38105: expected 10 fields, saw 11\\nSkipping line 38275: expected 10 fields, saw 11\\nSkipping line 38404: expected 10 fields, saw 12\\n'\n"
     ]
    }
   ],
   "source": [
    "#скачиваю датафрейм тегов\n",
    "flags = pd.read_csv('C:/Users/ligra/Desktop/диплом/fashion-dataset/styles.csv', error_bad_lines=False)"
   ]
  },
  {
   "cell_type": "code",
   "execution_count": 28,
   "id": "cf3e20f2",
   "metadata": {},
   "outputs": [],
   "source": [
    "img_path = 'C:/Users/ligra/Desktop/диплом/fashion-dataset/images' #путь к изображению"
   ]
  },
  {
   "cell_type": "code",
   "execution_count": 29,
   "id": "e8dd6076",
   "metadata": {},
   "outputs": [],
   "source": [
    "#строю путь изображения\n",
    "def get_img_path(self, img_path, id):\n",
    "    return img_path+'/'+str(id)+'.jpg'"
   ]
  },
  {
   "cell_type": "code",
   "execution_count": 30,
   "id": "288bc4b2",
   "metadata": {},
   "outputs": [
    {
     "data": {
      "text/html": [
       "<div>\n",
       "<style scoped>\n",
       "    .dataframe tbody tr th:only-of-type {\n",
       "        vertical-align: middle;\n",
       "    }\n",
       "\n",
       "    .dataframe tbody tr th {\n",
       "        vertical-align: top;\n",
       "    }\n",
       "\n",
       "    .dataframe thead th {\n",
       "        text-align: right;\n",
       "    }\n",
       "</style>\n",
       "<table border=\"1\" class=\"dataframe\">\n",
       "  <thead>\n",
       "    <tr style=\"text-align: right;\">\n",
       "      <th></th>\n",
       "      <th>id</th>\n",
       "      <th>gender</th>\n",
       "      <th>gen_category</th>\n",
       "      <th>sub_category</th>\n",
       "      <th>type</th>\n",
       "      <th>color</th>\n",
       "      <th>season</th>\n",
       "      <th>year</th>\n",
       "      <th>usage</th>\n",
       "      <th>product_name</th>\n",
       "    </tr>\n",
       "  </thead>\n",
       "  <tbody>\n",
       "    <tr>\n",
       "      <th>0</th>\n",
       "      <td>15970</td>\n",
       "      <td>Men</td>\n",
       "      <td>Apparel</td>\n",
       "      <td>Topwear</td>\n",
       "      <td>Shirts</td>\n",
       "      <td>Navy Blue</td>\n",
       "      <td>Fall</td>\n",
       "      <td>2011.0</td>\n",
       "      <td>Casual</td>\n",
       "      <td>Turtle Check Men Navy Blue Shirt</td>\n",
       "    </tr>\n",
       "    <tr>\n",
       "      <th>1</th>\n",
       "      <td>39386</td>\n",
       "      <td>Men</td>\n",
       "      <td>Apparel</td>\n",
       "      <td>Bottomwear</td>\n",
       "      <td>Jeans</td>\n",
       "      <td>Blue</td>\n",
       "      <td>Summer</td>\n",
       "      <td>2012.0</td>\n",
       "      <td>Casual</td>\n",
       "      <td>Peter England Men Party Blue Jeans</td>\n",
       "    </tr>\n",
       "    <tr>\n",
       "      <th>2</th>\n",
       "      <td>59263</td>\n",
       "      <td>Women</td>\n",
       "      <td>Accessories</td>\n",
       "      <td>Watches</td>\n",
       "      <td>Watches</td>\n",
       "      <td>Silver</td>\n",
       "      <td>Winter</td>\n",
       "      <td>2016.0</td>\n",
       "      <td>Casual</td>\n",
       "      <td>Titan Women Silver Watch</td>\n",
       "    </tr>\n",
       "    <tr>\n",
       "      <th>3</th>\n",
       "      <td>21379</td>\n",
       "      <td>Men</td>\n",
       "      <td>Apparel</td>\n",
       "      <td>Bottomwear</td>\n",
       "      <td>Track Pants</td>\n",
       "      <td>Black</td>\n",
       "      <td>Fall</td>\n",
       "      <td>2011.0</td>\n",
       "      <td>Casual</td>\n",
       "      <td>Manchester United Men Solid Black Track Pants</td>\n",
       "    </tr>\n",
       "    <tr>\n",
       "      <th>4</th>\n",
       "      <td>53759</td>\n",
       "      <td>Men</td>\n",
       "      <td>Apparel</td>\n",
       "      <td>Topwear</td>\n",
       "      <td>Tshirts</td>\n",
       "      <td>Grey</td>\n",
       "      <td>Summer</td>\n",
       "      <td>2012.0</td>\n",
       "      <td>Casual</td>\n",
       "      <td>Puma Men Grey T-shirt</td>\n",
       "    </tr>\n",
       "    <tr>\n",
       "      <th>...</th>\n",
       "      <td>...</td>\n",
       "      <td>...</td>\n",
       "      <td>...</td>\n",
       "      <td>...</td>\n",
       "      <td>...</td>\n",
       "      <td>...</td>\n",
       "      <td>...</td>\n",
       "      <td>...</td>\n",
       "      <td>...</td>\n",
       "      <td>...</td>\n",
       "    </tr>\n",
       "    <tr>\n",
       "      <th>44419</th>\n",
       "      <td>17036</td>\n",
       "      <td>Men</td>\n",
       "      <td>Footwear</td>\n",
       "      <td>Shoes</td>\n",
       "      <td>Casual Shoes</td>\n",
       "      <td>White</td>\n",
       "      <td>Summer</td>\n",
       "      <td>2013.0</td>\n",
       "      <td>Casual</td>\n",
       "      <td>Gas Men Caddy Casual Shoe</td>\n",
       "    </tr>\n",
       "    <tr>\n",
       "      <th>44420</th>\n",
       "      <td>6461</td>\n",
       "      <td>Men</td>\n",
       "      <td>Footwear</td>\n",
       "      <td>Flip Flops</td>\n",
       "      <td>Flip Flops</td>\n",
       "      <td>Red</td>\n",
       "      <td>Summer</td>\n",
       "      <td>2011.0</td>\n",
       "      <td>Casual</td>\n",
       "      <td>Lotto Men's Soccer Track Flip Flop</td>\n",
       "    </tr>\n",
       "    <tr>\n",
       "      <th>44421</th>\n",
       "      <td>18842</td>\n",
       "      <td>Men</td>\n",
       "      <td>Apparel</td>\n",
       "      <td>Topwear</td>\n",
       "      <td>Tshirts</td>\n",
       "      <td>Blue</td>\n",
       "      <td>Fall</td>\n",
       "      <td>2011.0</td>\n",
       "      <td>Casual</td>\n",
       "      <td>Puma Men Graphic Stellar Blue Tshirt</td>\n",
       "    </tr>\n",
       "    <tr>\n",
       "      <th>44422</th>\n",
       "      <td>46694</td>\n",
       "      <td>Women</td>\n",
       "      <td>Personal Care</td>\n",
       "      <td>Fragrance</td>\n",
       "      <td>Perfume and Body Mist</td>\n",
       "      <td>Blue</td>\n",
       "      <td>Spring</td>\n",
       "      <td>2017.0</td>\n",
       "      <td>Casual</td>\n",
       "      <td>Rasasi Women Blue Lady Perfume</td>\n",
       "    </tr>\n",
       "    <tr>\n",
       "      <th>44423</th>\n",
       "      <td>51623</td>\n",
       "      <td>Women</td>\n",
       "      <td>Accessories</td>\n",
       "      <td>Watches</td>\n",
       "      <td>Watches</td>\n",
       "      <td>Pink</td>\n",
       "      <td>Winter</td>\n",
       "      <td>2016.0</td>\n",
       "      <td>Casual</td>\n",
       "      <td>Fossil Women Pink Dial Chronograph Watch ES3050</td>\n",
       "    </tr>\n",
       "  </tbody>\n",
       "</table>\n",
       "<p>44424 rows × 10 columns</p>\n",
       "</div>"
      ],
      "text/plain": [
       "          id gender   gen_category sub_category                   type  \\\n",
       "0      15970    Men        Apparel      Topwear                 Shirts   \n",
       "1      39386    Men        Apparel   Bottomwear                  Jeans   \n",
       "2      59263  Women    Accessories      Watches                Watches   \n",
       "3      21379    Men        Apparel   Bottomwear            Track Pants   \n",
       "4      53759    Men        Apparel      Topwear                Tshirts   \n",
       "...      ...    ...            ...          ...                    ...   \n",
       "44419  17036    Men       Footwear        Shoes           Casual Shoes   \n",
       "44420   6461    Men       Footwear   Flip Flops             Flip Flops   \n",
       "44421  18842    Men        Apparel      Topwear                Tshirts   \n",
       "44422  46694  Women  Personal Care    Fragrance  Perfume and Body Mist   \n",
       "44423  51623  Women    Accessories      Watches                Watches   \n",
       "\n",
       "           color  season    year   usage  \\\n",
       "0      Navy Blue    Fall  2011.0  Casual   \n",
       "1           Blue  Summer  2012.0  Casual   \n",
       "2         Silver  Winter  2016.0  Casual   \n",
       "3          Black    Fall  2011.0  Casual   \n",
       "4           Grey  Summer  2012.0  Casual   \n",
       "...          ...     ...     ...     ...   \n",
       "44419      White  Summer  2013.0  Casual   \n",
       "44420        Red  Summer  2011.0  Casual   \n",
       "44421       Blue    Fall  2011.0  Casual   \n",
       "44422       Blue  Spring  2017.0  Casual   \n",
       "44423       Pink  Winter  2016.0  Casual   \n",
       "\n",
       "                                          product_name  \n",
       "0                     Turtle Check Men Navy Blue Shirt  \n",
       "1                   Peter England Men Party Blue Jeans  \n",
       "2                             Titan Women Silver Watch  \n",
       "3        Manchester United Men Solid Black Track Pants  \n",
       "4                                Puma Men Grey T-shirt  \n",
       "...                                                ...  \n",
       "44419                        Gas Men Caddy Casual Shoe  \n",
       "44420               Lotto Men's Soccer Track Flip Flop  \n",
       "44421             Puma Men Graphic Stellar Blue Tshirt  \n",
       "44422                   Rasasi Women Blue Lady Perfume  \n",
       "44423  Fossil Women Pink Dial Chronograph Watch ES3050  \n",
       "\n",
       "[44424 rows x 10 columns]"
      ]
     },
     "execution_count": 30,
     "metadata": {},
     "output_type": "execute_result"
    }
   ],
   "source": [
    "#переименовываю названия колонок\n",
    "flags = flags.rename(columns={'masterCategory':'gen_category',\n",
    "                      'subCategory':'sub_category',\n",
    "                      'articleType':'type',\n",
    "                      'baseColour':'color',\n",
    "                      'productDisplayName':'product_name'})\n",
    "flags"
   ]
  },
  {
   "cell_type": "code",
   "execution_count": 32,
   "id": "ff7e7df8",
   "metadata": {},
   "outputs": [],
   "source": [
    "#создание массива уникальных меток\n",
    "unique_tags = []\n",
    "columns_name = ['gender','type', 'color']\n",
    "#выделяем уникальные метки разных типов\n",
    "gender_tags = flags['gender'].unique()\n",
    "type_tags = flags['type'].unique()\n",
    "color_tags = flags['color'].unique()\n",
    "\n",
    "#пока без трех категорий\n",
    "for tag in type_tags:\n",
    "    tag = str(tag).replace(' ', '_')\n",
    "    unique_tags.append(tag)\n",
    "\n",
    "#за уникальные метки будем считать type_tags"
   ]
  },
  {
   "cell_type": "code",
   "execution_count": 33,
   "id": "d309eab9",
   "metadata": {},
   "outputs": [
    {
     "data": {
      "text/plain": [
       "LabelEncoder()"
      ]
     },
     "execution_count": 33,
     "metadata": {},
     "output_type": "execute_result"
    }
   ],
   "source": [
    "#создание меток\n",
    "le = preprocessing.LabelEncoder()\n",
    "le.fit(unique_tags)\n",
    "#list(le.classes_)\n"
   ]
  },
  {
   "cell_type": "code",
   "execution_count": 34,
   "id": "343d8369",
   "metadata": {},
   "outputs": [
    {
     "data": {
      "text/plain": [
       "array([104,  56, 140, 128, 134, 110,  19,   7,  39,  48, 127,  13, 100,\n",
       "       105, 120,  27,  41,  14,  72,  38,  63, 138, 112, 107,  15, 101,\n",
       "        91,  51, 116,  53,  90,  84,  65, 102,  92,  28,  87, 109, 139,\n",
       "         8,  94,  62,  22, 108,   2,  18, 132,  31,  16,  12,  58,  30,\n",
       "        17,  69,   5,  82, 135,  55, 133,  73,  37,  85,  29, 111,  42,\n",
       "       119,  44, 131, 129, 121, 106,  43,   3,  88, 123,   1,  66,  52,\n",
       "       130,  64,  81,  80,  68,  34,  23,  32,   0,   6,  59,  60, 141,\n",
       "       118,  70,  95,  99,  89, 113,  33,  50, 125,  83,  20,  75,  35,\n",
       "        74,  45,  78, 142, 122, 124,  40, 114, 103,  86,  98,  25,  57,\n",
       "        47,  24,  96,   9, 117,  11, 137,  46,  97,   4,  67,  21,  77,\n",
       "       126,  26,  61,  76,  71, 136,  36,  49,  79,  93,  10, 115,  54])"
      ]
     },
     "execution_count": 34,
     "metadata": {},
     "output_type": "execute_result"
    }
   ],
   "source": [
    "#проверка меток\n",
    "number_tags = le.transform(unique_tags)\n",
    "number_tags"
   ]
  },
  {
   "cell_type": "code",
   "execution_count": 40,
   "id": "a973506b",
   "metadata": {},
   "outputs": [],
   "source": [
    "#ищу классы,где количество изображений < 8, чтобы каждый класс попал в каждую из выборок\n",
    "del_flags = flags.type.value_counts()\n",
    "del_flags = del_flags.reset_index().rename(columns={'index':'type', 'type':'count'})\n",
    "del_flags =del_flags[del_flags['count'] < 9]\n"
   ]
  },
  {
   "cell_type": "code",
   "execution_count": 42,
   "id": "c5fcfd9d",
   "metadata": {},
   "outputs": [
    {
     "data": {
      "text/plain": [
       "Tshirts                  388\n",
       "Shirts                   179\n",
       "Watches                  161\n",
       "Casual Shoes             155\n",
       "Sports Shoes             140\n",
       "Handbags                 119\n",
       "Kurtas                   100\n",
       "Tops                      97\n",
       "Heels                     74\n",
       "Flip Flops                60\n",
       "Sandals                   55\n",
       "Briefs                    54\n",
       "Wallets                   53\n",
       "Sunglasses                51\n",
       "Belts                     50\n",
       "Backpacks                 41\n",
       "Jeans                     40\n",
       "Socks                     37\n",
       "Bra                       37\n",
       "Perfume and Body Mist     36\n",
       "Trousers                  35\n",
       "Flats                     34\n",
       "Formal Shoes              32\n",
       "Shorts                    31\n",
       "Lipstick                  29\n",
       "Dresses                   28\n",
       "Deodorant                 27\n",
       "Earrings                  27\n",
       "Sweatshirts               22\n",
       "Clutches                  21\n",
       "Sarees                    19\n",
       "Caps                      18\n",
       "Track Pants               18\n",
       "Tunics                    16\n",
       "Capris                    15\n",
       "Ring                      14\n",
       "Ties                      14\n",
       "Innerwear Vests           13\n",
       "Jackets                   12\n",
       "Lip Gloss                 11\n",
       "Kurta Sets                11\n",
       "Kurtis                    11\n",
       "Nail Polish               10\n",
       "Skirts                     9\n",
       "Trunk                      9\n",
       "Sweaters                   9\n",
       "Pendant                    9\n",
       "Name: type, dtype: int64"
      ]
     },
     "execution_count": 42,
     "metadata": {},
     "output_type": "execute_result"
    }
   ],
   "source": [
    "#проверка частоты встречания изображений\n",
    "flags.type.value_counts()\n"
   ]
  },
  {
   "cell_type": "code",
   "execution_count": 41,
   "id": "b8c2e381",
   "metadata": {},
   "outputs": [],
   "source": [
    "flags_buf  = flags.type.reset_index()\n",
    "del_indexes = []\n",
    "\n",
    "for i in del_flags.type:\n",
    "    array_buf = flags_buf[flags_buf['type'] == i]\n",
    "    del_indexes = array_buf['index']\n",
    "    flags = flags.drop(del_indexes)\n",
    "\n",
    "\n"
   ]
  },
  {
   "cell_type": "code",
   "execution_count": 185,
   "id": "e80ce4c5",
   "metadata": {},
   "outputs": [
    {
     "name": "stdout",
     "output_type": "stream",
     "text": [
      "Успешно создана директория img \n",
      "Успешно создана директория hog \n",
      "Успешно создана директория sobel \n",
      "Успешно создана директория texture \n"
     ]
    }
   ],
   "source": [
    "path_img = \"img\"\n",
    "path_hog = \"hog\"\n",
    "path_sobel = \"sobel\"\n",
    "path_texture = \"texture\"\n",
    "\n",
    "try:\n",
    "    os.mkdir(path_img)\n",
    "    os.mkdir(path_hog)\n",
    "    os.mkdir(path_sobel)\n",
    "    os.mkdir(path_texture)\n",
    "except OSError:\n",
    "    print (\"Создать директорию %s не удалось\" % path_img)\n",
    "    print (\"Создать директорию %s не удалось\" % path_hog)\n",
    "    print (\"Создать директорию %s не удалось\" % path_sobel)\n",
    "    print (\"Создать директорию %s не удалось\" % path_texture)\n",
    "else:\n",
    "    print (\"Успешно создана директория %s \" % path_img)\n",
    "    print (\"Успешно создана директория %s \" % path_hog)\n",
    "    print (\"Успешно создана директория %s \" % path_sobel)\n",
    "    print (\"Успешно создана директория %s \" % path_texture)"
   ]
  },
  {
   "cell_type": "code",
   "execution_count": 189,
   "id": "13bb23ab",
   "metadata": {},
   "outputs": [],
   "source": [
    "#запись всех изображений в файлы для быстрого считывания, в обычном, hog, sobel, texture форматах\n",
    "for i in flags.id[2691:]:\n",
    "    #строю путь, открываю изображение, изменяю размер\n",
    "    buff_image_path = img_path+'/'+str(i)+'.jpg'\n",
    "    buff_image =  Image.open(buff_image_path)\n",
    "    buff_image = buff_image.resize((1600, 2400))\n",
    "    np.save(f\"img/{i}.npy\", buff_image)\n",
    "    #hog изображения\n",
    "    fd, hog_image = hog(np.array(buff_image), orientations=9, pixels_per_cell=(8, 8), \n",
    "                    cells_per_block=(2, 2), visualize=True, multichannel=True)\n",
    "    hog_image_rescaled = exposure.rescale_intensity(hog_image, in_range=(0, 10))\n",
    "    np.save(f\"hog/{i}.npy\", hog_image_rescaled)\n",
    "    #sobel\n",
    "    gray_img = cv2.cvtColor(np.array(buff_image), cv2.COLOR_BGR2GRAY)\n",
    "    sobel_img = filters.sobel(gray_img)\n",
    "    np.save(f\"sobel/{i}.npy\", sobel_img)\n",
    "    #texture\n",
    "    g_kernel = cv2.getGaborKernel((21, 21), 8.0, np.pi/4, 10.0, 0.5, 0, ktype=cv2.CV_32F)\n",
    "    texture_img = cv2.filter2D(gray_img, cv2.CV_8UC3, g_kernel)\n",
    "    np.save(f\"texture/{i}.npy\", texture_img)\n",
    "\n",
    "    "
   ]
  },
  {
   "cell_type": "code",
   "execution_count": 38,
   "id": "fb7a0f51",
   "metadata": {},
   "outputs": [
    {
     "data": {
      "text/plain": [
       "Tshirts             388\n",
       "Shirts              179\n",
       "Watches             161\n",
       "Casual Shoes        155\n",
       "Sports Shoes        140\n",
       "                   ... \n",
       "Compact               1\n",
       "Shoe Accessories      1\n",
       "Waistcoat             1\n",
       "Baby Dolls            1\n",
       "Eyeshadow             1\n",
       "Name: type, Length: 90, dtype: int64"
      ]
     },
     "execution_count": 38,
     "metadata": {},
     "output_type": "execute_result"
    }
   ],
   "source": [
    "#обрезаю df до 2703 изображений, так как закончилась память\n",
    "flags = flags[0:2600]\n",
    "flags.type.value_counts()\n"
   ]
  },
  {
   "cell_type": "code",
   "execution_count": 47,
   "id": "7c85a809",
   "metadata": {},
   "outputs": [
    {
     "name": "stdout",
     "output_type": "stream",
     "text": [
      "[]\n"
     ]
    }
   ],
   "source": [
    "#удаление пропущенных изображений из датасета\n",
    "missing_img = []\n",
    "for idx, line in flags.iterrows():\n",
    "    if not os.path.exists(os.path.join('C:/Users/ligra/Desktop/диплом/fashion-dataset/', 'images', str(line.id)+'.jpg')):\n",
    "        print(os.path.join('C:/Users/ligra/Desktop/диплом/fashion-dataset/', 'images', str(line.id)+'.jpg'))\n",
    "        missing_img.append(idx)\n",
    "        \n",
    "print(missing_img)\n",
    "flags.drop(flags.index[missing_img], inplace=True)"
   ]
  },
  {
   "cell_type": "code",
   "execution_count": 49,
   "id": "9bcbd7fc",
   "metadata": {},
   "outputs": [
    {
     "name": "stdout",
     "output_type": "stream",
     "text": [
      "[]\n"
     ]
    }
   ],
   "source": [
    "missing_img = []\n",
    "for idx, line in flags.iterrows():\n",
    "    if not os.path.exists(os.path.join('C:/Users/ligra/Documents/GitHub/recommendation_system/.ipynb_checkpoints', 'hog', str(line.id)+'.npy')):\n",
    "        print(os.path.join('C:/Users/ligra/Documents/GitHub/recommendation_system/.ipynb_checkpoints', 'hog', str(line.id)+'.npy'))\n",
    "        missing_img.append(idx)\n",
    "        \n",
    "print(missing_img)\n",
    "flags.drop(flags.index[missing_img], inplace=True)"
   ]
  },
  {
   "cell_type": "code",
   "execution_count": 50,
   "id": "d615bacc",
   "metadata": {},
   "outputs": [],
   "source": [
    "#разделение выборки на тестовую, обучающую и валидационную\n",
    "tags_train, tags_test = train_test_split(flags, test_size=0.2, random_state=1, stratify=flags['type'])\n",
    "tags_test, tags_valid = train_test_split(tags_test, test_size=0.25, random_state=1, stratify=tags_test['type'])\n"
   ]
  },
  {
   "cell_type": "code",
   "execution_count": 51,
   "id": "003c6ac3",
   "metadata": {},
   "outputs": [
    {
     "data": {
      "text/plain": [
       "2431"
      ]
     },
     "execution_count": 51,
     "metadata": {},
     "output_type": "execute_result"
    }
   ],
   "source": [
    "len(flags)"
   ]
  },
  {
   "cell_type": "code",
   "execution_count": 52,
   "id": "1cd2d0b2",
   "metadata": {},
   "outputs": [],
   "source": [
    "#выбираю 100 случайных изображений из тестовой выборки, чтобы прогонять их сразу и не загружать данные несколько раз, тк это долго\n",
    "test_dict_tags = {}\n",
    "for test_num in range(1, 101):\n",
    "    test_info = tags_test.sample()\n",
    "    test_id = test_info.id.reset_index().id[0]\n",
    "    test_type = test_info.type.reset_index().type[0]\n",
    "    test_dict_tags[test_num] = [test_id, test_type]\n",
    "    \n",
    "    \n",
    "    \n"
   ]
  },
  {
   "cell_type": "code",
   "execution_count": 57,
   "id": "9d927d0a",
   "metadata": {},
   "outputs": [],
   "source": [
    "#сразу считываю 3 формата обработки для каждого тестового изображения\n",
    "test_hog = {}\n",
    "test_sobel = {}\n",
    "test_texture = {}\n",
    "for test_num in range(1, 101):\n",
    "    test_id = test_dict_tags[test_num][0]\n",
    "    test_hog[test_num] = np.load('C:/Users/ligra/Documents/GitHub/recommendation_system/.ipynb_checkpoints/hog/'+str(test_id)+'.npy')\n",
    "    test_sobel[test_num] = np.load('C:/Users/ligra/Documents/GitHub/recommendation_system/.ipynb_checkpoints/sobel/'+str(test_id)+'.npy')\n",
    "    test_texture[test_num] = np.load('C:/Users/ligra/Documents/GitHub/recommendation_system/.ipynb_checkpoints/texture/'+str(test_id)+'.npy')\n",
    "    "
   ]
  },
  {
   "cell_type": "code",
   "execution_count": 58,
   "id": "3cef0900",
   "metadata": {},
   "outputs": [],
   "source": [
    "#выбираем разбиваем df по классам\n",
    "train_dict_tags = {}\n",
    "for i in tags_train.type:\n",
    "    array_buf = tags_train[tags_train['type'] == i]\n",
    "    train_dict_tags[i] = array_buf.id.reset_index()\n",
    "\n"
   ]
  },
  {
   "cell_type": "code",
   "execution_count": 59,
   "id": "b7d6766c",
   "metadata": {},
   "outputs": [],
   "source": [
    "#выбор лидера для каждого класса, будет использоваться во всех тестах один и тот же набор лидеров\n",
    "train_lead_dict = {}\n",
    "for key in train_dict_tags:\n",
    "    type_array = train_dict_tags[key]\n",
    "    lead_num = int(type_array.sample().id)\n",
    "    train_lead_dict[key] = lead_num"
   ]
  },
  {
   "cell_type": "code",
   "execution_count": 60,
   "id": "2bd7d947",
   "metadata": {},
   "outputs": [],
   "source": [
    "#подготовка словаря для хранения коэф схожести\n",
    "test_coisine_similarity_dict = {}\n",
    "for test_num in range(1, 101):\n",
    "    test_coisine_similarity_dict[test_num] = {}"
   ]
  },
  {
   "cell_type": "code",
   "execution_count": 61,
   "id": "845fa32a",
   "metadata": {},
   "outputs": [],
   "source": [
    "#сравниваю каждое изображение с лидерами классов, оставляю среднее значение косинусного сходства в качестве результата\n",
    "#тк изображения для скорости работы уже заранее записаны в файлы, то считываю из них\n",
    "for lead in train_lead_dict:\n",
    "    lead_id =  train_lead_dict[lead]\n",
    "    lead_hog = np.load('C:/Users/ligra/Documents/GitHub/recommendation_system/.ipynb_checkpoints/hog/'+str(lead_id)+'.npy')\n",
    "    lead_sobel = np.load('C:/Users/ligra/Documents/GitHub/recommendation_system/.ipynb_checkpoints/sobel/'+str(lead_id)+'.npy')\n",
    "    lead_texture = np.load('C:/Users/ligra/Documents/GitHub/recommendation_system/.ipynb_checkpoints/texture/'+str(lead_id)+'.npy')\n",
    "    \n",
    "    for test_num in range(1, 101):\n",
    "        hog = cosine_similarity(lead_hog.reshape(1,-1),test_hog[test_num].reshape(1,-1))\n",
    "        sobel = cosine_similarity(lead_sobel.reshape(1,-1),test_sobel[test_num].reshape(1,-1))\n",
    "        texture = cosine_similarity(lead_texture.reshape(1,-1),test_texture[test_num].reshape(1,-1))\n",
    "        avg_coisine_similarity = (hog + sobel+ texture) / 3\n",
    "        test_coisine_similarity_dict[test_num][lead] = avg_coisine_similarity\n",
    "        "
   ]
  },
  {
   "cell_type": "code",
   "execution_count": 62,
   "id": "e402c658",
   "metadata": {},
   "outputs": [],
   "source": [
    "#формирую массив с тремя максимальными значениями косинусного сходства для каждого тестового изображения\n",
    "avg_coisine_similarity_dict = {}\n",
    "max_avg_coisine_similarity_dict = {}\n",
    "for test_num in range(1, 101):\n",
    "    avg_coisine_similarity_dict[test_num] = []\n",
    "    for key in test_coisine_similarity_dict[test_num]:\n",
    "        avg_coisine_similarity_dict[test_num].append(test_coisine_similarity_dict[test_num][key][0][0])\n",
    "    max_avg_coisine_similarity_dict[test_num] = sorted(avg_coisine_similarity_dict[test_num],reverse = True)[:3]\n"
   ]
  },
  {
   "cell_type": "code",
   "execution_count": 63,
   "id": "e09486cd",
   "metadata": {},
   "outputs": [
    {
     "data": {
      "text/plain": [
       "['Sports Shoes', 'Briefs', 'Formal Shoes']"
      ]
     },
     "execution_count": 63,
     "metadata": {},
     "output_type": "execute_result"
    }
   ],
   "source": [
    "#для каждого тестового изображения создаю массив с типами самых похожих классов, чтобы позднее сравнивать с большим числом изображений\n",
    "type_max_sim = {}\n",
    "for test_num in range(1, 101):\n",
    "    type_max_sim[test_num] = []\n",
    "    for lead in test_coisine_similarity_dict[test_num]:\n",
    "        if test_coisine_similarity_dict[test_num][lead] in max_avg_coisine_similarity_dict[test_num]:\n",
    "            type_max_sim[test_num].append(lead)\n",
    "            \n",
    "type_max_sim[1]\n",
    "            "
   ]
  },
  {
   "cell_type": "code",
   "execution_count": 64,
   "id": "8f5c3b2f",
   "metadata": {},
   "outputs": [],
   "source": [
    "test_sim_dict_all_img = {}\n",
    "for test_num in range(1, 101):\n",
    "    test_sim_dict_all_img[test_num] = {}"
   ]
  },
  {
   "cell_type": "code",
   "execution_count": 66,
   "id": "e73ba2ca",
   "metadata": {},
   "outputs": [
    {
     "name": "stdout",
     "output_type": "stream",
     "text": [
      "Watches\n",
      "Sports Shoes\n",
      "Flip Flops\n",
      "Casual Shoes\n",
      "Handbags\n",
      "Bra\n",
      "Tshirts\n",
      "Sunglasses\n",
      "Lipstick\n",
      "Backpacks\n",
      "Kurtas\n",
      "Briefs\n",
      "Tunics\n",
      "Sarees\n",
      "Socks\n",
      "Shirts\n",
      "Flats\n",
      "Tops\n",
      "Formal Shoes\n",
      "Jeans\n",
      "Lip Gloss\n",
      "Deodorant\n",
      "Wallets\n",
      "Skirts\n",
      "Kurtis\n",
      "Heels\n",
      "Shorts\n",
      "Perfume and Body Mist\n",
      "Earrings\n",
      "Belts\n",
      "Dresses\n",
      "Sandals\n",
      "Trousers\n",
      "Capris\n",
      "Ring\n",
      "Nail Polish\n",
      "Sweaters\n",
      "Jackets\n",
      "Clutches\n",
      "Innerwear Vests\n",
      "Kurta Sets\n",
      "Pendant\n",
      "Track Pants\n",
      "Caps\n",
      "Sweatshirts\n",
      "Trunk\n",
      "Ties\n"
     ]
    }
   ],
   "source": [
    "#поиск косинусного сходства среди топ 3 самых похожих классов, для всех тестовых изображений\n",
    "for train_type in train_dict_tags:\n",
    "    print(train_type)\n",
    "    for train_img_id in train_dict_tags[train_type].id:\n",
    "        train_img_hog = np.load('C:/Users/ligra/Documents/GitHub/recommendation_system/.ipynb_checkpoints/hog/'+str(train_img_id)+'.npy')\n",
    "        train_img_sobel = np.load('C:/Users/ligra/Documents/GitHub/recommendation_system/.ipynb_checkpoints/sobel/'+str(train_img_id)+'.npy')\n",
    "        train_img_texture = np.load('C:/Users/ligra/Documents/GitHub/recommendation_system/.ipynb_checkpoints/texture/'+str(train_img_id)+'.npy')\n",
    "        for test_num in range(1, 101):\n",
    "            if train_type in type_max_sim[test_num]:\n",
    "                hog = cosine_similarity(train_img_hog.reshape(1,-1),test_hog[test_num].reshape(1,-1))\n",
    "                sobel = cosine_similarity(train_img_sobel.reshape(1,-1),test_sobel[test_num].reshape(1,-1))\n",
    "                texture = cosine_similarity(train_img_texture.reshape(1,-1),test_texture[test_num].reshape(1,-1))\n",
    "                avg_coisine_similarity = (hog + sobel+ texture) / 3\n",
    "                #проверка на существование ключа в словаре\n",
    "                if train_type in test_sim_dict_all_img[test_num]:\n",
    "                    test_sim_dict_all_img[test_num][train_type] += avg_coisine_similarity\n",
    "                else:\n",
    "                    test_sim_dict_all_img[test_num][train_type] = avg_coisine_similarity\n",
    "                "
   ]
  },
  {
   "cell_type": "markdown",
   "id": "e7cca3d2",
   "metadata": {},
   "source": []
  },
  {
   "cell_type": "code",
   "execution_count": 67,
   "id": "1587f262",
   "metadata": {},
   "outputs": [],
   "source": [
    "#ищу максимальное сходство\n",
    "avg_coisine_similarity_dict_all_img = {}\n",
    "max_avg_coisine_similarity_dict_all_img = {}\n",
    "for test_num in range(1, 101):\n",
    "    avg_coisine_similarity_dict_all_img[test_num] = []\n",
    "    for key in test_sim_dict_all_img[test_num]:\n",
    "        avg_coisine_similarity_dict_all_img[test_num].append(test_sim_dict_all_img[test_num][key][0][0])\n",
    "    max_avg_coisine_similarity_dict_all_img[test_num] = sorted(avg_coisine_similarity_dict_all_img[test_num],reverse = True)[:1]"
   ]
  },
  {
   "cell_type": "code",
   "execution_count": 68,
   "id": "b0198fc0",
   "metadata": {},
   "outputs": [],
   "source": [
    "res_arr = {}\n",
    "for test_num in range(1, 101):\n",
    "    res_arr[test_num] = []\n",
    "    for lead in test_sim_dict_all_img[test_num]:\n",
    "        if test_sim_dict_all_img[test_num][lead] in max_avg_coisine_similarity_dict_all_img[test_num]:\n",
    "            res_arr[test_num].append(lead)\n",
    "            \n"
   ]
  },
  {
   "cell_type": "code",
   "execution_count": 69,
   "id": "99dca0f5",
   "metadata": {},
   "outputs": [
    {
     "data": {
      "text/plain": [
       "0.3"
      ]
     },
     "execution_count": 69,
     "metadata": {},
     "output_type": "execute_result"
    }
   ],
   "source": [
    "#проверка корректности работы алгоритма\n",
    "percent = 0\n",
    "for test_num in range(1, 101):\n",
    "    if test_dict_tags[test_num][1] == res_arr[test_num][0]:\n",
    "        percent+=1\n",
    "percent = percent / 100\n",
    "percent\n",
    "        "
   ]
  },
  {
   "cell_type": "code",
   "execution_count": null,
   "id": "7ade1fa7",
   "metadata": {},
   "outputs": [],
   "source": []
  },
  {
   "cell_type": "code",
   "execution_count": null,
   "id": "81d1004e",
   "metadata": {},
   "outputs": [],
   "source": [
    "\n",
    "                    \n",
    "\n",
    "    "
   ]
  }
 ],
 "metadata": {
  "kernelspec": {
   "display_name": "Python 3 (ipykernel)",
   "language": "python",
   "name": "python3"
  },
  "language_info": {
   "codemirror_mode": {
    "name": "ipython",
    "version": 3
   },
   "file_extension": ".py",
   "mimetype": "text/x-python",
   "name": "python",
   "nbconvert_exporter": "python",
   "pygments_lexer": "ipython3",
   "version": "3.9.7"
  }
 },
 "nbformat": 4,
 "nbformat_minor": 5
}
