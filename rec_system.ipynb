{
 "cells": [
  {
   "cell_type": "code",
   "execution_count": 24,
   "id": "cc800b14",
   "metadata": {},
   "outputs": [],
   "source": [
    "import numpy as np\n",
    "import pandas as pd\n",
    "import matplotlib.pyplot as plt\n",
    "import os\n",
    "import torchvision\n",
    "from torchvision.io import read_image\n",
    "from torch.utils.data import DataLoader, Dataset\n",
    "from torch.utils.data.sampler import SubsetRandomSampler\n",
    "import time\n",
    "from PIL import Image, ImageDraw\n",
    "from skimage import io, transform\n",
    "from sklearn import preprocessing\n",
    "from torchvision.transforms import ToTensor\n",
    "import torch\n"
   ]
  },
  {
   "cell_type": "code",
   "execution_count": null,
   "id": "aedb2788",
   "metadata": {},
   "outputs": [],
   "source": []
  },
  {
   "cell_type": "code",
   "execution_count": 2,
   "id": "451fc87c",
   "metadata": {},
   "outputs": [
    {
     "name": "stderr",
     "output_type": "stream",
     "text": [
      "C:\\Users\\ligra\\AppData\\Local\\Programs\\Python\\Python39\\lib\\site-packages\\IPython\\core\\interactiveshell.py:3441: FutureWarning: The error_bad_lines argument has been deprecated and will be removed in a future version.\n",
      "\n",
      "\n",
      "  exec(code_obj, self.user_global_ns, self.user_ns)\n",
      "b'Skipping line 6044: expected 10 fields, saw 11\\nSkipping line 6569: expected 10 fields, saw 11\\nSkipping line 7399: expected 10 fields, saw 11\\nSkipping line 7939: expected 10 fields, saw 11\\nSkipping line 9026: expected 10 fields, saw 11\\nSkipping line 10264: expected 10 fields, saw 11\\nSkipping line 10427: expected 10 fields, saw 11\\nSkipping line 10905: expected 10 fields, saw 11\\nSkipping line 11373: expected 10 fields, saw 11\\nSkipping line 11945: expected 10 fields, saw 11\\nSkipping line 14112: expected 10 fields, saw 11\\nSkipping line 14532: expected 10 fields, saw 11\\nSkipping line 15076: expected 10 fields, saw 12\\nSkipping line 29906: expected 10 fields, saw 11\\nSkipping line 31625: expected 10 fields, saw 11\\nSkipping line 33020: expected 10 fields, saw 11\\nSkipping line 35748: expected 10 fields, saw 11\\nSkipping line 35962: expected 10 fields, saw 11\\nSkipping line 37770: expected 10 fields, saw 11\\nSkipping line 38105: expected 10 fields, saw 11\\nSkipping line 38275: expected 10 fields, saw 11\\nSkipping line 38404: expected 10 fields, saw 12\\n'\n"
     ]
    }
   ],
   "source": [
    "flags = pd.read_csv('C:/Users/ligra/Desktop/диплом/fashion-dataset/styles.csv', error_bad_lines=False)"
   ]
  },
  {
   "cell_type": "code",
   "execution_count": 3,
   "id": "89b221b0",
   "metadata": {},
   "outputs": [
    {
     "data": {
      "text/html": [
       "<div>\n",
       "<style scoped>\n",
       "    .dataframe tbody tr th:only-of-type {\n",
       "        vertical-align: middle;\n",
       "    }\n",
       "\n",
       "    .dataframe tbody tr th {\n",
       "        vertical-align: top;\n",
       "    }\n",
       "\n",
       "    .dataframe thead th {\n",
       "        text-align: right;\n",
       "    }\n",
       "</style>\n",
       "<table border=\"1\" class=\"dataframe\">\n",
       "  <thead>\n",
       "    <tr style=\"text-align: right;\">\n",
       "      <th></th>\n",
       "      <th>id</th>\n",
       "      <th>gender</th>\n",
       "      <th>gen_category</th>\n",
       "      <th>sub_category</th>\n",
       "      <th>type</th>\n",
       "      <th>color</th>\n",
       "      <th>season</th>\n",
       "      <th>year</th>\n",
       "      <th>usage</th>\n",
       "      <th>product_name</th>\n",
       "    </tr>\n",
       "  </thead>\n",
       "  <tbody>\n",
       "    <tr>\n",
       "      <th>0</th>\n",
       "      <td>15970</td>\n",
       "      <td>Men</td>\n",
       "      <td>Apparel</td>\n",
       "      <td>Topwear</td>\n",
       "      <td>Shirts</td>\n",
       "      <td>Navy Blue</td>\n",
       "      <td>Fall</td>\n",
       "      <td>2011.0</td>\n",
       "      <td>Casual</td>\n",
       "      <td>Turtle Check Men Navy Blue Shirt</td>\n",
       "    </tr>\n",
       "    <tr>\n",
       "      <th>1</th>\n",
       "      <td>39386</td>\n",
       "      <td>Men</td>\n",
       "      <td>Apparel</td>\n",
       "      <td>Bottomwear</td>\n",
       "      <td>Jeans</td>\n",
       "      <td>Blue</td>\n",
       "      <td>Summer</td>\n",
       "      <td>2012.0</td>\n",
       "      <td>Casual</td>\n",
       "      <td>Peter England Men Party Blue Jeans</td>\n",
       "    </tr>\n",
       "    <tr>\n",
       "      <th>2</th>\n",
       "      <td>59263</td>\n",
       "      <td>Women</td>\n",
       "      <td>Accessories</td>\n",
       "      <td>Watches</td>\n",
       "      <td>Watches</td>\n",
       "      <td>Silver</td>\n",
       "      <td>Winter</td>\n",
       "      <td>2016.0</td>\n",
       "      <td>Casual</td>\n",
       "      <td>Titan Women Silver Watch</td>\n",
       "    </tr>\n",
       "    <tr>\n",
       "      <th>3</th>\n",
       "      <td>21379</td>\n",
       "      <td>Men</td>\n",
       "      <td>Apparel</td>\n",
       "      <td>Bottomwear</td>\n",
       "      <td>Track Pants</td>\n",
       "      <td>Black</td>\n",
       "      <td>Fall</td>\n",
       "      <td>2011.0</td>\n",
       "      <td>Casual</td>\n",
       "      <td>Manchester United Men Solid Black Track Pants</td>\n",
       "    </tr>\n",
       "    <tr>\n",
       "      <th>4</th>\n",
       "      <td>53759</td>\n",
       "      <td>Men</td>\n",
       "      <td>Apparel</td>\n",
       "      <td>Topwear</td>\n",
       "      <td>Tshirts</td>\n",
       "      <td>Grey</td>\n",
       "      <td>Summer</td>\n",
       "      <td>2012.0</td>\n",
       "      <td>Casual</td>\n",
       "      <td>Puma Men Grey T-shirt</td>\n",
       "    </tr>\n",
       "    <tr>\n",
       "      <th>...</th>\n",
       "      <td>...</td>\n",
       "      <td>...</td>\n",
       "      <td>...</td>\n",
       "      <td>...</td>\n",
       "      <td>...</td>\n",
       "      <td>...</td>\n",
       "      <td>...</td>\n",
       "      <td>...</td>\n",
       "      <td>...</td>\n",
       "      <td>...</td>\n",
       "    </tr>\n",
       "    <tr>\n",
       "      <th>44419</th>\n",
       "      <td>17036</td>\n",
       "      <td>Men</td>\n",
       "      <td>Footwear</td>\n",
       "      <td>Shoes</td>\n",
       "      <td>Casual Shoes</td>\n",
       "      <td>White</td>\n",
       "      <td>Summer</td>\n",
       "      <td>2013.0</td>\n",
       "      <td>Casual</td>\n",
       "      <td>Gas Men Caddy Casual Shoe</td>\n",
       "    </tr>\n",
       "    <tr>\n",
       "      <th>44420</th>\n",
       "      <td>6461</td>\n",
       "      <td>Men</td>\n",
       "      <td>Footwear</td>\n",
       "      <td>Flip Flops</td>\n",
       "      <td>Flip Flops</td>\n",
       "      <td>Red</td>\n",
       "      <td>Summer</td>\n",
       "      <td>2011.0</td>\n",
       "      <td>Casual</td>\n",
       "      <td>Lotto Men's Soccer Track Flip Flop</td>\n",
       "    </tr>\n",
       "    <tr>\n",
       "      <th>44421</th>\n",
       "      <td>18842</td>\n",
       "      <td>Men</td>\n",
       "      <td>Apparel</td>\n",
       "      <td>Topwear</td>\n",
       "      <td>Tshirts</td>\n",
       "      <td>Blue</td>\n",
       "      <td>Fall</td>\n",
       "      <td>2011.0</td>\n",
       "      <td>Casual</td>\n",
       "      <td>Puma Men Graphic Stellar Blue Tshirt</td>\n",
       "    </tr>\n",
       "    <tr>\n",
       "      <th>44422</th>\n",
       "      <td>46694</td>\n",
       "      <td>Women</td>\n",
       "      <td>Personal Care</td>\n",
       "      <td>Fragrance</td>\n",
       "      <td>Perfume and Body Mist</td>\n",
       "      <td>Blue</td>\n",
       "      <td>Spring</td>\n",
       "      <td>2017.0</td>\n",
       "      <td>Casual</td>\n",
       "      <td>Rasasi Women Blue Lady Perfume</td>\n",
       "    </tr>\n",
       "    <tr>\n",
       "      <th>44423</th>\n",
       "      <td>51623</td>\n",
       "      <td>Women</td>\n",
       "      <td>Accessories</td>\n",
       "      <td>Watches</td>\n",
       "      <td>Watches</td>\n",
       "      <td>Pink</td>\n",
       "      <td>Winter</td>\n",
       "      <td>2016.0</td>\n",
       "      <td>Casual</td>\n",
       "      <td>Fossil Women Pink Dial Chronograph Watch ES3050</td>\n",
       "    </tr>\n",
       "  </tbody>\n",
       "</table>\n",
       "<p>44424 rows × 10 columns</p>\n",
       "</div>"
      ],
      "text/plain": [
       "          id gender   gen_category sub_category                   type  \\\n",
       "0      15970    Men        Apparel      Topwear                 Shirts   \n",
       "1      39386    Men        Apparel   Bottomwear                  Jeans   \n",
       "2      59263  Women    Accessories      Watches                Watches   \n",
       "3      21379    Men        Apparel   Bottomwear            Track Pants   \n",
       "4      53759    Men        Apparel      Topwear                Tshirts   \n",
       "...      ...    ...            ...          ...                    ...   \n",
       "44419  17036    Men       Footwear        Shoes           Casual Shoes   \n",
       "44420   6461    Men       Footwear   Flip Flops             Flip Flops   \n",
       "44421  18842    Men        Apparel      Topwear                Tshirts   \n",
       "44422  46694  Women  Personal Care    Fragrance  Perfume and Body Mist   \n",
       "44423  51623  Women    Accessories      Watches                Watches   \n",
       "\n",
       "           color  season    year   usage  \\\n",
       "0      Navy Blue    Fall  2011.0  Casual   \n",
       "1           Blue  Summer  2012.0  Casual   \n",
       "2         Silver  Winter  2016.0  Casual   \n",
       "3          Black    Fall  2011.0  Casual   \n",
       "4           Grey  Summer  2012.0  Casual   \n",
       "...          ...     ...     ...     ...   \n",
       "44419      White  Summer  2013.0  Casual   \n",
       "44420        Red  Summer  2011.0  Casual   \n",
       "44421       Blue    Fall  2011.0  Casual   \n",
       "44422       Blue  Spring  2017.0  Casual   \n",
       "44423       Pink  Winter  2016.0  Casual   \n",
       "\n",
       "                                          product_name  \n",
       "0                     Turtle Check Men Navy Blue Shirt  \n",
       "1                   Peter England Men Party Blue Jeans  \n",
       "2                             Titan Women Silver Watch  \n",
       "3        Manchester United Men Solid Black Track Pants  \n",
       "4                                Puma Men Grey T-shirt  \n",
       "...                                                ...  \n",
       "44419                        Gas Men Caddy Casual Shoe  \n",
       "44420               Lotto Men's Soccer Track Flip Flop  \n",
       "44421             Puma Men Graphic Stellar Blue Tshirt  \n",
       "44422                   Rasasi Women Blue Lady Perfume  \n",
       "44423  Fossil Women Pink Dial Chronograph Watch ES3050  \n",
       "\n",
       "[44424 rows x 10 columns]"
      ]
     },
     "execution_count": 3,
     "metadata": {},
     "output_type": "execute_result"
    }
   ],
   "source": [
    "flags = flags.rename(columns={'masterCategory':'gen_category',\n",
    "                      'subCategory':'sub_category',\n",
    "                      'articleType':'type',\n",
    "                      'baseColour':'color',\n",
    "                      'productDisplayName':'product_name'})\n",
    "flags"
   ]
  },
  {
   "cell_type": "code",
   "execution_count": 4,
   "id": "58682f47",
   "metadata": {},
   "outputs": [],
   "source": [
    "#создание массива уникальных меток\n",
    "unique_tags = []\n",
    "columns_name = flags.columns\n",
    "for i in range(1, len(columns_name)):\n",
    "    for tag in flags[columns_name[i]].unique():\n",
    "        tag = str(tag).replace(' ', '_')\n",
    "        unique_tags.append(tag)"
   ]
  },
  {
   "cell_type": "code",
   "execution_count": 5,
   "id": "c7755f20",
   "metadata": {},
   "outputs": [
    {
     "data": {
      "text/plain": [
       "array([16897, 16897, 30486, ..., 16897, 30486, 30486])"
      ]
     },
     "execution_count": 5,
     "metadata": {},
     "output_type": "execute_result"
    }
   ],
   "source": [
    "#преобразование и кодирование меток\n",
    "le = preprocessing.LabelEncoder()\n",
    "le.fit(unique_tags)\n",
    "list(le.classes_) #изменяет метки некорректно, нужен вывод этой строки!\n",
    "le.transform(flags['gender'])"
   ]
  },
  {
   "cell_type": "code",
   "execution_count": 7,
   "id": "7afd1892",
   "metadata": {},
   "outputs": [
    {
     "data": {
      "text/plain": [
       "'C:/Users/ligra/Desktop/диплом/fashion-dataset/images/39386.jpg'"
      ]
     },
     "execution_count": 7,
     "metadata": {},
     "output_type": "execute_result"
    }
   ],
   "source": [
    "# пути к изображениям\n",
    "img_path = 'C:/Users/ligra/Desktop/диплом/fashion-dataset/images'\n",
    "images_path = []\n",
    "for id in flags.id:\n",
    "      images_path.append(img_path+'/'+str(id)+'.jpg') \n",
    "images_path[1]"
   ]
  },
  {
   "cell_type": "code",
   "execution_count": 8,
   "id": "333c22da",
   "metadata": {},
   "outputs": [
    {
     "data": {
      "text/plain": [
       "<matplotlib.image.AxesImage at 0x1a501c665b0>"
      ]
     },
     "execution_count": 8,
     "metadata": {},
     "output_type": "execute_result"
    },
    {
     "data": {
      "image/png": "[encoded data removed]",
      "text/plain": [
       "<Figure size 432x288 with 1 Axes>"
      ]
     },
     "metadata": {
      "needs_background": "light"
     },
     "output_type": "display_data"
    }
   ],
   "source": [
    "images = []\n",
    "for path in range(1,10):\n",
    "    image = Image.open(images_path[path]) \n",
    "    pix = image.load() #попиксельная загрузка\n",
    "    images.append(image)\n",
    "    \n",
    "plt.imshow(images[7]) #вывод изображения"
   ]
  },
  {
   "cell_type": "code",
   "execution_count": 9,
   "id": "862b9e7e",
   "metadata": {},
   "outputs": [],
   "source": [
    "transform = torchvision.transforms.Compose([\n",
    "                torchvision.transforms.Resize((224, 224)),\n",
    "                torchvision.transforms.ToTensor(),\n",
    "                torchvision.transforms.Normalize((0.5, 0.5, 0.5), (0.5, 0.5, 0.5))\n",
    "            ])"
   ]
  },
  {
   "cell_type": "code",
   "execution_count": 10,
   "id": "6f2543fb",
   "metadata": {},
   "outputs": [],
   "source": [
    "class СlothesDataset(Dataset):\n",
    "\n",
    "    def __init__(self, csv_file, img_path, transform=None):\n",
    "        self.flags = pd.read_csv(csv_file, error_bad_lines=False)\n",
    "        self.path = img_path\n",
    "        self.transform = transform\n",
    "        \n",
    "        #создание массива уникальных меток\n",
    "        unique_tags = []\n",
    "        columns_name = flags.columns\n",
    "        for i in range(1, len(columns_name)):\n",
    "            for tag in flags[columns_name[i]].unique():\n",
    "                tag = str(tag).replace(' ', '_')\n",
    "                unique_tags.append(tag)\n",
    "        \n",
    "\n",
    "    def __len__(self):\n",
    "        return len(self.flags)\n",
    "\n",
    "    def __getitem__(self, idx):\n",
    "        img_name = os.path.join(self.path, str(self.flags.iloc[idx, 0])+'.jpg')\n",
    "        image = io.imread(img_name)\n",
    "        tags = self.flags.iloc[idx, 1:].values\n",
    "        \n",
    "        for i in range(len(tags)):\n",
    "            tags[i] = str(tags[i]).replace(' ', '_')\n",
    "            tags[i] = unique_tags.index(tags[i])\n",
    "            \n",
    "        tags = tags.astype('float').reshape(-1, 9)\n",
    "        sample = {'image': image, 'tags': tags}\n",
    "\n",
    "        if self.transform:\n",
    "            sample = self.transform(sample)\n",
    "\n",
    "        return sample\n",
    "    "
   ]
  },
  {
   "cell_type": "code",
   "execution_count": 20,
   "id": "fa3882ad",
   "metadata": {},
   "outputs": [],
   "source": [
    "#Преобразование ndarrays экземпляра в Tensors\n",
    "class ToTensor(object):\n",
    "\n",
    "    def __call__(self, sample):\n",
    "        image, tags = sample['image'], sample['tags']\n",
    "\n",
    "        # numpy изображение: H x W x C\n",
    "        # torch изображение: C X H X W\n",
    "        image = image.transpose((2, 0, 1))\n",
    "        return {'image': torch.from_numpy(image),\n",
    "                'tags': torch.from_numpy(tags)}"
   ]
  },
  {
   "cell_type": "code",
   "execution_count": 21,
   "id": "256b9a0e",
   "metadata": {},
   "outputs": [
    {
     "name": "stderr",
     "output_type": "stream",
     "text": [
      "C:\\Users\\ligra\\AppData\\Local\\Temp/ipykernel_18944/2884431866.py:2: FutureWarning: The error_bad_lines argument has been deprecated and will be removed in a future version.\n",
      "\n",
      "\n",
      "  clothes_dataset = СlothesDataset(csv_file='C:/Users/ligra/Desktop/диплом/fashion-dataset/styles.csv',\n",
      "b'Skipping line 6044: expected 10 fields, saw 11\\nSkipping line 6569: expected 10 fields, saw 11\\nSkipping line 7399: expected 10 fields, saw 11\\nSkipping line 7939: expected 10 fields, saw 11\\nSkipping line 9026: expected 10 fields, saw 11\\nSkipping line 10264: expected 10 fields, saw 11\\nSkipping line 10427: expected 10 fields, saw 11\\nSkipping line 10905: expected 10 fields, saw 11\\nSkipping line 11373: expected 10 fields, saw 11\\nSkipping line 11945: expected 10 fields, saw 11\\nSkipping line 14112: expected 10 fields, saw 11\\nSkipping line 14532: expected 10 fields, saw 11\\nSkipping line 15076: expected 10 fields, saw 12\\nSkipping line 29906: expected 10 fields, saw 11\\nSkipping line 31625: expected 10 fields, saw 11\\nSkipping line 33020: expected 10 fields, saw 11\\nSkipping line 35748: expected 10 fields, saw 11\\nSkipping line 35962: expected 10 fields, saw 11\\nSkipping line 37770: expected 10 fields, saw 11\\nSkipping line 38105: expected 10 fields, saw 11\\nSkipping line 38275: expected 10 fields, saw 11\\nSkipping line 38404: expected 10 fields, saw 12\\n'\n"
     ]
    },
    {
     "name": "stdout",
     "output_type": "stream",
     "text": [
      "0 torch.Size([3, 2400, 1800]) torch.Size([1, 9])\n",
      "1 torch.Size([3, 2400, 1800]) torch.Size([1, 9])\n",
      "2 torch.Size([3, 1440, 1080]) torch.Size([1, 9])\n",
      "3 torch.Size([3, 2400, 1800]) torch.Size([1, 9])\n",
      "4 torch.Size([3, 1440, 1080]) torch.Size([1, 9])\n",
      "5 torch.Size([3, 2400, 1800]) torch.Size([1, 9])\n",
      "6 torch.Size([3, 2400, 1800]) torch.Size([1, 9])\n",
      "7 torch.Size([3, 1440, 1080]) torch.Size([1, 9])\n",
      "8 torch.Size([3, 1440, 1080]) torch.Size([1, 9])\n",
      "9 torch.Size([3, 1440, 1080]) torch.Size([1, 9])\n"
     ]
    }
   ],
   "source": [
    "#итерация по набору данных, проверка корректности работы\n",
    "clothes_dataset = СlothesDataset(csv_file='C:/Users/ligra/Desktop/диплом/fashion-dataset/styles.csv',\n",
    "                                img_path='C:/Users/ligra/Desktop/диплом/fashion-dataset/images',\n",
    "                                transform=ToTensor())\n",
    "for i in range(0, 10):\n",
    "    sample = clothes_dataset[i]\n",
    "\n",
    "    print(i, sample['image'].size(), sample['tags'].size())"
   ]
  },
  {
   "cell_type": "code",
   "execution_count": 22,
   "id": "bbe53e35",
   "metadata": {},
   "outputs": [
    {
     "name": "stderr",
     "output_type": "stream",
     "text": [
      "C:\\Users\\ligra\\AppData\\Local\\Temp/ipykernel_18944/2911532429.py:2: FutureWarning: The error_bad_lines argument has been deprecated and will be removed in a future version.\n",
      "\n",
      "\n",
      "  clothes_dataset = СlothesDataset(csv_file='C:/Users/ligra/Desktop/диплом/fashion-dataset/styles.csv',\n",
      "b'Skipping line 6044: expected 10 fields, saw 11\\nSkipping line 6569: expected 10 fields, saw 11\\nSkipping line 7399: expected 10 fields, saw 11\\nSkipping line 7939: expected 10 fields, saw 11\\nSkipping line 9026: expected 10 fields, saw 11\\nSkipping line 10264: expected 10 fields, saw 11\\nSkipping line 10427: expected 10 fields, saw 11\\nSkipping line 10905: expected 10 fields, saw 11\\nSkipping line 11373: expected 10 fields, saw 11\\nSkipping line 11945: expected 10 fields, saw 11\\nSkipping line 14112: expected 10 fields, saw 11\\nSkipping line 14532: expected 10 fields, saw 11\\nSkipping line 15076: expected 10 fields, saw 12\\nSkipping line 29906: expected 10 fields, saw 11\\nSkipping line 31625: expected 10 fields, saw 11\\nSkipping line 33020: expected 10 fields, saw 11\\nSkipping line 35748: expected 10 fields, saw 11\\nSkipping line 35962: expected 10 fields, saw 11\\nSkipping line 37770: expected 10 fields, saw 11\\nSkipping line 38105: expected 10 fields, saw 11\\nSkipping line 38275: expected 10 fields, saw 11\\nSkipping line 38404: expected 10 fields, saw 12\\n'\n"
     ]
    },
    {
     "name": "stdout",
     "output_type": "stream",
     "text": [
      "0 (2400, 1800, 3) (1, 9)\n",
      "1 (2400, 1800, 3) (1, 9)\n",
      "2 (1440, 1080, 3) (1, 9)\n",
      "3 (2400, 1800, 3) (1, 9)\n",
      "4 (1440, 1080, 3) (1, 9)\n",
      "5 (2400, 1800, 3) (1, 9)\n",
      "6 (2400, 1800, 3) (1, 9)\n",
      "7 (1440, 1080, 3) (1, 9)\n",
      "8 (1440, 1080, 3) (1, 9)\n",
      "9 (1440, 1080, 3) (1, 9)\n"
     ]
    }
   ],
   "source": [
    "#итерация по набору данных, проверка корректности работы\n",
    "clothes_dataset = СlothesDataset(csv_file='C:/Users/ligra/Desktop/диплом/fashion-dataset/styles.csv',\n",
    "                                img_path='C:/Users/ligra/Desktop/диплом/fashion-dataset/images')\n",
    "for i in range(0, 10):\n",
    "    sample = clothes_dataset[i]\n",
    "\n",
    "    print(i, sample['image'].shape, sample['tags'].shape)"
   ]
  },
  {
   "cell_type": "code",
   "execution_count": null,
   "id": "574bf8f5",
   "metadata": {},
   "outputs": [],
   "source": [
    "#Getting HOG features\n",
    "fd, hog_image = hog(img, orientations=9, pixels_per_cell=(8, 8), \n",
    "                    cells_per_block=(2, 2), visualize=True, multichannel=True)\n",
    "hog_image_rescaled = exposure.rescale_intensity(hog_image, in_range=(0, 10)) \n",
    "\n",
    "#Getting Edge Detection features\n",
    "gray_img = cv2.cvtColor(img, cv2.COLOR_BGR2GRAY)\n",
    "sobel_img = filters.sobel(gray_img)\n",
    "\n",
    "#Getting Texture features\n",
    "g_kernel = cv2.getGaborKernel((21, 21), 8.0, np.pi/4, 10.0, 0.5, 0, ktype=cv2.CV_32F)\n",
    "texture_img = cv2.filter2D(gray_img, cv2.CV_8UC3, g_kernel)"
   ]
  }
 ],
 "metadata": {
  "kernelspec": {
   "display_name": "Python 3 (ipykernel)",
   "language": "python",
   "name": "python3"
  },
  "language_info": {
   "codemirror_mode": {
    "name": "ipython",
    "version": 3
   },
   "file_extension": ".py",
   "mimetype": "text/x-python",
   "name": "python",
   "nbconvert_exporter": "python",
   "pygments_lexer": "ipython3",
   "version": "3.9.7"
  }
 },
 "nbformat": 4,
 "nbformat_minor": 5
}
