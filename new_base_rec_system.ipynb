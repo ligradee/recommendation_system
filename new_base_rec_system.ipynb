{
 "cells": [
  {
   "cell_type": "code",
   "execution_count": 1,
   "id": "030707d6",
   "metadata": {},
   "outputs": [],
   "source": [
    "from sklearn.model_selection import train_test_split\n",
    "from sklearn.preprocessing import normalize\n",
    "from imutils import paths\n",
    "import numpy as np\n",
    "import pickle\n",
    "import cv2\n",
    "import matplotlib.pyplot as plt\n",
    "from sklearn.metrics.pairwise import cosine_similarity\n",
    "from skimage import filters\n",
    "from skimage.transform import resize\n",
    "from skimage.feature import hog\n",
    "import os\n",
    "import pandas as pd\n",
    "from PIL import Image\n"
   ]
  },
  {
   "cell_type": "code",
   "execution_count": 2,
   "id": "12d129f4",
   "metadata": {},
   "outputs": [],
   "source": [
    "path = \"C:/Users/ligra/Desktop/диплом/fashion-dataset/images/\"\n",
    "weights = [1, 0.2, 0.2, 0.4]"
   ]
  },
  {
   "cell_type": "code",
   "execution_count": 3,
   "id": "589715ed",
   "metadata": {},
   "outputs": [],
   "source": [
    "#prerparing dataset\n",
    "def preparing_dataset():\n",
    "    df = pd.read_csv('C:/Users/ligra/Desktop/диплом/fashion-dataset/styles.csv', error_bad_lines=False)\n",
    "    #looking for classes where the number of images is < 8, so that each class falls into each of the samples\n",
    "    del_index = df.articleType.value_counts().reset_index().rename(columns={'index':'articleType', 'articleType':'count'})\n",
    "    del_index =del_index[del_index['count'] < 9]\n",
    "\n",
    "    flags_buf  = df.articleType.reset_index()\n",
    "    del_indexes = []\n",
    "\n",
    "    for i in del_index.articleType:\n",
    "        array_buf = flags_buf[flags_buf['articleType'] == i]\n",
    "        del_indexes = array_buf['index']\n",
    "        df = df.drop(del_indexes)\n",
    "    \n",
    "    #removing missing images from dataset\n",
    "    missing_img = []\n",
    "    for idx, line in df.iterrows():\n",
    "        if not os.path.exists(os.path.join('C:/Users/ligra/Desktop/диплом/fashion-dataset/', 'images', str(line.id)+'.jpg')):\n",
    "            missing_img.append(idx)\n",
    "        \n",
    "    df.drop(df.index[missing_img], inplace=True)\n",
    "    del_indexes = [6695, 16194, 32309, 36381]\n",
    "    df = df.drop(del_indexes)\n",
    "    return df\n",
    "\n",
    "def split_clasters(df):\n",
    "    claster_names = {}\n",
    "    for claster_name in df.articleType:\n",
    "        df_id = df[df['articleType'] == claster_name]\n",
    "        list_id = list(df_id.reset_index().id)\n",
    "        claster_names[claster_name] = list_id\n",
    "    return claster_names  "
   ]
  },
  {
   "cell_type": "code",
   "execution_count": 4,
   "id": "20f31f2a",
   "metadata": {},
   "outputs": [],
   "source": [
    "#image processing functions\n",
    "def hsv(num):\n",
    "    img = np.load('C:/Users/ligra/Documents/GitHub/recommendation_system/img_resize/'+str(num)+'.npy')\n",
    "    img = cv2.cvtColor(img, cv2.COLOR_BGR2GRAY)\n",
    "    hist = cv2.calcHist([img], [0], None, [256], [0, 256])\n",
    "    return hist\n",
    "\n",
    "def hog_f(num):\n",
    "    img = np.load('C:/Users/ligra/Documents/GitHub/recommendation_system/img_resize/'+str(num)+'.npy')\n",
    "    hog_img, fd = hog(img, orientations=9, pixels_per_cell=(8, 8), \n",
    "                    cells_per_block=(2, 2), visualize=True, multichannel=True)\n",
    "    return hog_img.reshape(hog_img.shape[0],1)\n",
    "\n",
    "def sobel(num):\n",
    "    img = np.load('C:/Users/ligra/Documents/GitHub/recommendation_system/img_resize/'+str(num)+'.npy')\n",
    "    img = cv2.cvtColor(img, cv2.COLOR_BGR2GRAY)\n",
    "    sobel_img = filters.sobel(img)\n",
    "    sobel_img  = filters.gaussian(sobel_img, sigma=2.0)\n",
    "    return sobel_img.flatten()\n",
    "\n",
    "def texture(num):\n",
    "    img = np.load('C:/Users/ligra/Documents/GitHub/recommendation_system/img_resize/'+str(num)+'.npy')\n",
    "    g_kernel = cv2.getGaborKernel((21, 21), 8.0, np.pi/4, 10.0, 0.5, 0, ktype=cv2.CV_32F)\n",
    "    img = cv2.cvtColor(img, cv2.COLOR_BGR2GRAY)\n",
    "    texture_img = cv2.filter2D(img, cv2.CV_8UC3, g_kernel)\n",
    "    return texture_img.flatten()\n",
    "\n"
   ]
  },
  {
   "cell_type": "code",
   "execution_count": 5,
   "id": "aaf6a555",
   "metadata": {},
   "outputs": [],
   "source": [
    "#getting features\n",
    "def get_features(img_num):\n",
    "    hsv_vector = hsv(img_num)\n",
    "    sobel_vector = sobel(img_num)\n",
    "    texture_vector = texture(img_num)\n",
    "    hog_vector = hog_f(img_num)  \n",
    "    return [hsv_vector, sobel_vector, texture_vector, hog_vector]\n",
    "\n",
    "\n",
    "def features_dataset(df):\n",
    "    features = {}\n",
    "    for claster_name in df:\n",
    "        if claster_name not in features:\n",
    "            features[claster_name] = {}\n",
    "        for img_num in df[claster_name]:\n",
    "            features[claster_name][img_num] = get_features(img_num)\n",
    "    return features"
   ]
  },
  {
   "cell_type": "code",
   "execution_count": 6,
   "id": "2bd5ae26",
   "metadata": {},
   "outputs": [],
   "source": [
    "#functions for saving and loading features datasets\n",
    "def save_in_pickle(data, pickle_file):\n",
    "    file = open(pickle_file,\"wb\")\n",
    "    pickle.dump(data,file)\n",
    "    file.close()\n",
    "    \n",
    "def load_from_pickle(pickle_file):\n",
    "    file = open(pickle_file,'rb')\n",
    "    pickle_data = pickle.load(file)\n",
    "    file.close()\n",
    "    return pickle_data"
   ]
  },
  {
   "cell_type": "code",
   "execution_count": 7,
   "id": "0d85f5c8",
   "metadata": {},
   "outputs": [],
   "source": [
    "#image similarity assessment\n",
    "def cosine(a,b):\n",
    "    dot = np.dot(a.T, b)\n",
    "    norma = np.linalg.norm(a)\n",
    "    normb = np.linalg.norm(b)\n",
    "    cos = (dot / norma) / normb\n",
    "    return cos\n",
    "\n",
    "def cosine_score(test_features, train_features):\n",
    "    score = 0\n",
    "    for num_feature in range(len(test_features)):\n",
    "        if len(test_features[num_feature]) != len(train_features[num_feature]):\n",
    "            min_size = min(len(test_features[num_feature]), len(train_features[num_feature]))\n",
    "            test_features[num_feature] = test_features[num_feature][0:min_size]\n",
    "            train_features[num_feature] = train_features[num_feature][0:min_size]\n",
    "        score += cosine(train_features[num_feature],test_features[num_feature])  \n",
    "    return score/4\n",
    "   "
   ]
  },
  {
   "cell_type": "code",
   "execution_count": 8,
   "id": "7e356d71",
   "metadata": {},
   "outputs": [],
   "source": [
    "#main function\n",
    "def recommend_images(img_test):\n",
    "    lead_similarity = {}\n",
    "    test_features = get_features(img_test)\n",
    "    train_classes = list(train_features.keys())\n",
    "    for key in train_classes:\n",
    "        id_img = list(train_features[key].keys())\n",
    "        if id_img != []:\n",
    "            buf_features = train_features[key][id_img[0]]\n",
    "            buf_score = cosine_score(test_features, buf_features)\n",
    "            lead_similarity[key] = buf_score\n",
    "    \n",
    "    #selection of top 3 similar images among class leaders\n",
    "    lead_score = []\n",
    "    for key in lead_similarity:\n",
    "        lead_score.append(lead_similarity[key])\n",
    "    \n",
    "    lead_score.sort(reverse=True)\n",
    "    top_lead = []\n",
    "    for key in lead_similarity:\n",
    "        if lead_similarity[key] == lead_score[0] or lead_similarity[key] == lead_score[1] or lead_similarity[key] == lead_score[2]:\n",
    "            top_lead.append(key)\n",
    "    \n",
    "   #selection top 3 images among all \n",
    "    top3_score = {}\n",
    "    \n",
    "    for type_name in top_lead:\n",
    "        id_img = list(train_features[type_name].keys())\n",
    "        buf_score_array = []\n",
    "        if id_img != []:\n",
    "            for i in  range(len(id_img)):\n",
    "                buf_features = train_features[type_name][id_img[i]]\n",
    "                buf_score = cosine_score(test_features, buf_features)\n",
    "                buf_score_array.append(buf_score)\n",
    "        \n",
    "        avg_score = sum(buf_score_array) / len(buf_score_array)\n",
    "        top3_score[type_name] = avg_score\n",
    "    \n",
    "    max_score = 0\n",
    "    result = ''\n",
    "    \n",
    "    for key in top3_score:\n",
    "        if top3_score[key] > max_score:\n",
    "            max_score = top3_score[key]\n",
    "            result = key\n",
    "    \n",
    "    return result"
   ]
  },
  {
   "cell_type": "code",
   "execution_count": 9,
   "id": "41fc784b",
   "metadata": {},
   "outputs": [],
   "source": [
    "def scatter_plot(accuracy_processed_img, accuracy_all_img):\n",
    "    x = [i for i in range(len(accuracy_processed_img))]\n",
    "    plt.plot(x, accuracy_processed_img, label='precision', color = 'red')\n",
    "    plt.plot(x, accuracy_all_img, label='recall', color = \"green\")\n",
    "    plt.xlabel('X input')\n",
    "    plt.ylabel(\"Y output\")\n",
    "    plt.legend()\n",
    "    plt.show()"
   ]
  },
  {
   "cell_type": "code",
   "execution_count": 11,
   "id": "cda05e75",
   "metadata": {},
   "outputs": [
    {
     "name": "stderr",
     "output_type": "stream",
     "text": [
      "C:\\Users\\ligra\\AppData\\Local\\Temp/ipykernel_14656/3924117327.py:1: FutureWarning: The error_bad_lines argument has been deprecated and will be removed in a future version.\n",
      "\n",
      "\n",
      "  df = preparing_dataset()\n",
      "b'Skipping line 6044: expected 10 fields, saw 11\\nSkipping line 6569: expected 10 fields, saw 11\\nSkipping line 7399: expected 10 fields, saw 11\\nSkipping line 7939: expected 10 fields, saw 11\\nSkipping line 9026: expected 10 fields, saw 11\\nSkipping line 10264: expected 10 fields, saw 11\\nSkipping line 10427: expected 10 fields, saw 11\\nSkipping line 10905: expected 10 fields, saw 11\\nSkipping line 11373: expected 10 fields, saw 11\\nSkipping line 11945: expected 10 fields, saw 11\\nSkipping line 14112: expected 10 fields, saw 11\\nSkipping line 14532: expected 10 fields, saw 11\\nSkipping line 15076: expected 10 fields, saw 12\\nSkipping line 29906: expected 10 fields, saw 11\\nSkipping line 31625: expected 10 fields, saw 11\\nSkipping line 33020: expected 10 fields, saw 11\\nSkipping line 35748: expected 10 fields, saw 11\\nSkipping line 35962: expected 10 fields, saw 11\\nSkipping line 37770: expected 10 fields, saw 11\\nSkipping line 38105: expected 10 fields, saw 11\\nSkipping line 38275: expected 10 fields, saw 11\\nSkipping line 38404: expected 10 fields, saw 12\\n'\n"
     ]
    }
   ],
   "source": [
    "df = preparing_dataset()"
   ]
  },
  {
   "cell_type": "code",
   "execution_count": 13,
   "id": "bcca86f9",
   "metadata": {},
   "outputs": [],
   "source": [
    "tags_train, tags_test = train_test_split(df, test_size=0.2, random_state=1, stratify=df['articleType'])"
   ]
  },
  {
   "cell_type": "code",
   "execution_count": 14,
   "id": "b0da9f6b",
   "metadata": {},
   "outputs": [],
   "source": [
    "tags_train = split_clasters(tags_train)\n",
    "tags_test = split_clasters(tags_test)"
   ]
  },
  {
   "cell_type": "code",
   "execution_count": 15,
   "id": "411572ce",
   "metadata": {},
   "outputs": [],
   "source": [
    "#creating file with features\n",
    "train_features = features_dataset(tags_train)\n",
    "save_in_pickle(train_features, \"train_features\")"
   ]
  },
  {
   "cell_type": "code",
   "execution_count": 16,
   "id": "2711a9ae",
   "metadata": {},
   "outputs": [],
   "source": [
    "#loading file with features\n",
    "train_features = load_from_pickle(\"train_features\")"
   ]
  },
  {
   "cell_type": "code",
   "execution_count": 17,
   "id": "c61d9663",
   "metadata": {},
   "outputs": [
    {
     "name": "stderr",
     "output_type": "stream",
     "text": [
      "C:\\Users\\ligra\\AppData\\Local\\Temp/ipykernel_14656/40272651.py:6: RuntimeWarning: invalid value encountered in double_scalars\n",
      "  cos = (dot / norma) / normb\n",
      "C:\\Users\\ligra\\AppData\\Local\\Temp/ipykernel_14656/40272651.py:6: RuntimeWarning: invalid value encountered in true_divide\n",
      "  cos = (dot / norma) / normb\n"
     ]
    }
   ],
   "source": [
    "#test\n",
    "k = 4\n",
    "accuracy_processed_img = []\n",
    "accuracy_all_img = []\n",
    "proccesed_imgs = 0\n",
    "correct_answer = 0\n",
    "all_score = 0\n",
    "\n",
    "\n",
    "for claster_name in tags_test:\n",
    "    for img_test in tags_test[claster_name]:\n",
    "        try:\n",
    "            result = recommend_images(str(img_test))\n",
    "\n",
    "            if claster_name == result :\n",
    "                correct_answer += 1\n",
    "            proccesed_imgs += 1\n",
    "            #the number of correct definitions in relation to the number of processed images\n",
    "            accuracy_processed_img.append(correct_answer/proccesed_imgs)\n",
    "            #the number of correct definitions in relation to the number of all images\n",
    "            accuracy_all_img.append(correct_answer/len(tags_test))\n",
    "        \n",
    "        except:\n",
    "            pass\n",
    "            print('ERROR')\n"
   ]
  },
  {
   "cell_type": "code",
   "execution_count": 1,
   "id": "0f329726",
   "metadata": {},
   "outputs": [
    {
     "name": "stdout",
     "output_type": "stream",
     "text": [
      "0.47168021680216804\n"
     ]
    }
   ],
   "source": [
    "#accuracy output\n",
    "print(correct_answer/proccesed_imgs)"
   ]
  }
 ],
 "metadata": {
  "kernelspec": {
   "display_name": "Python 3 (ipykernel)",
   "language": "python",
   "name": "python3"
  },
  "language_info": {
   "codemirror_mode": {
    "name": "ipython",
    "version": 3
   },
   "file_extension": ".py",
   "mimetype": "text/x-python",
   "name": "python",
   "nbconvert_exporter": "python",
   "pygments_lexer": "ipython3",
   "version": "3.9.7"
  }
 },
 "nbformat": 4,
 "nbformat_minor": 5
}
